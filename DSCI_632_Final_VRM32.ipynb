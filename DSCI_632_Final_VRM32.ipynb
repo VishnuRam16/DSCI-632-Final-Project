{
  "nbformat": 4,
  "nbformat_minor": 0,
  "metadata": {
    "colab": {
      "provenance": [],
      "gpuType": "T4"
    },
    "kernelspec": {
      "name": "python3",
      "display_name": "Python 3"
    },
    "language_info": {
      "name": "python"
    },
    "accelerator": "GPU"
  },
  "cells": [
    {
      "cell_type": "markdown",
      "source": [
        "# DSCI 632 Final\n",
        "\n",
        "Your final is to use the dataset of your choice and the techniques in this class to do the following:\n",
        "\n",
        "1. Define and describe the dataset (10 points)\n",
        "1. Clean the data (10 points)\n",
        "1. Transform the clean data (10 points)\n",
        "1. Show your analysis of the data (10 points)"
      ],
      "metadata": {
        "id": "XNwBhCh5_fcM"
      }
    },
    {
      "cell_type": "markdown",
      "source": [
        "## Ground Rules\n",
        "\n",
        "1. Explain everything you're doing with pyspark in the code cells using [markdown](https://www.markdownguide.org/cheat-sheet) in text cells. Help the reader understand why you're doing each step so they can re-create it. Remember, this is an assignment to show how you analyze data to a potential employer. Don't use code comments to explain things.\n",
        "1. All of the sections are heading 1 in markdown, so use heading 2 to write your explainations, and heading 3 for any sub-headers. Check in your table of contents view in colab to make sure each point is listed before you turn this in.\n",
        "1. Don't hesisate to use multiple code/text cells in each section, as long as they're all labeled and described.\n",
        "1. Assume that the reader doesn't have access to the dataset on your local machine. Provide a link to the dataset you're using, or if able, include code to copy it from a public source. Don't rely on uploading from your local machine. (Importing from Google Drive is ok, as long as you provide the link to the data)\n",
        "1. If using GCP services, include screenshots from your console if there's a step that you aren't able to re-produce in code. Using the SDK is always preferred, but you won't lose points for using screenshots and explaining them.\n",
        "1. Import the data ONCE, then transform it to fit your analysis.\n",
        "1. Don't overwrite data, make new columns for new transformations. You can always drop columns later, but you can't get overwritten values back.\n",
        "1. Feel free to work with classmates, but all work submitted must be your own.\n",
        "1. Make sure to run disconnect the runtime and re-run the notebook at least once before turning in. If you are getting certain Java runtime errors, this might also help."
      ],
      "metadata": {
        "id": "aZL-vts6Fyji"
      }
    },
    {
      "cell_type": "markdown",
      "source": [
        "## Extra Credit Opportunities!\n",
        "\n",
        "- If you provide a link to this notebook on your public GitHub page instead of turning it in as an attachment, you will get 2 points extra credit.\n",
        "- Extra credit will be given for using the [Google Cloud SDK](https://cloud.google.com/sdk/) to create/use/destroy any cloud resources, up to 2 points per section, 8 points total.\n",
        " - Don't be afraid to look at the GCP example colab notebooks from the class notes, the GCP documentation, or GitHub for examples.\n",
        "- If this notebook is self-contained, you will get 5 points extra credit. (Requirements below)\n",
        " - The data is imported without relying on Google Drive, as the paths to data in Google Drive are user-specific. Downloads from public storage buckets/services are fine. (1 point)\n",
        " - It be run from start to finish without making any changes to paths, code, or variable names. (1 point)\n",
        " - All calls to external services, including GCP, are done programatically, no screenshots explaining how it worked in a browser console. (Using an API or SDK, 2 points)\n",
        " - All cloud resources are destroyed at the end of the notebook in a seperate section (Also via API or SDK, 1 point)"
      ],
      "metadata": {
        "id": "o92jEFUiQDLu"
      }
    },
    {
      "cell_type": "markdown",
      "source": [
        "---"
      ],
      "metadata": {
        "id": "te7o-qDYH5Pl"
      }
    },
    {
      "cell_type": "markdown",
      "source": [
        "# Section 1: Define and describe the dataset\n",
        "\n",
        "10 points\n",
        "\n",
        "Import the dataset, and describe why you'll be analyzing in it. You can summarize a few columns, show a more information on the relavent features, or but help the reader understand what the dataset is, what is in it, and why you picked it.\n",
        "\n",
        "Some questions that it might help you to answer:\n",
        "# 1. Why are you choosing this dataset?\n",
        "\n",
        "- We selected this dataset because it contains information about a superstore's sales and performance indicators, allowing for a variety of analyses relating to sales, profitability, customer behavior, and more. It includes a wide range of factors that may be utilized to gain insights and create data-driven decisions.\n",
        "\n",
        "- Dataset link = https://www.kaggle.com/datasets/vivek468/superstore-dataset-final\n",
        "\n",
        "# 2. What variables will you use?\n",
        "\n",
        "The variables that could be useful for analysis include:\n",
        "\n",
        "- Order ID: to identify individual orders.\n",
        "- Order Date: for analyzing trends over time.\n",
        "- Ship Date: for order fulfillment analysis.\n",
        "- Ship Mode: for understanding different shipping methods.\n",
        "- Segment: to analyze sales performance across different customer segments.\n",
        "- Category: to categorize products and analyze sales by category.\n",
        "- Sub-Category: to further segment products within categories.\n",
        "- Sales: to analyze revenue.\n",
        "- Quantity: for understanding sales volume.\n",
        "- Discount: to analyze the impact of discounts on sales and profitability.\n",
        "- Profit: for profitability analysis.\n",
        "- Region: to analyze sales performance across different regions.\n",
        "\n",
        "# 3. What analysis(es) will you run?\n",
        "\n",
        "Potential analyses include:\n",
        "\n",
        "- We aim to predict sales using numerical and categorical data.\n",
        "\n",
        "- We will also try to understand the distribution of numerical features.\n",
        "\n",
        "- We attempt to understand all the distinct features in the categorical columns and how they can impact the sales of the superstore.\n",
        "\n",
        "# 4. Do you have any hypotheses? What are they?\n",
        "\n",
        "Hypotheses could include:\n",
        "\n",
        "- What are the features that are most ideal for predicting sales?\n",
        "- Do Order Date and Ship Date together impact the sales prediction?\n",
        "\n",
        "### This section should include one or more of the following:\n",
        "- A histogram of several features relavent to your analysis\n",
        "- The schema of the dataset, with the datatypes assigned correctly\n",
        "- A text cell with explainations of the relavent features in [markdown](https://www.markdownguide.org/cheat-sheet)\n",
        "- Use Spark SQL or built-in methods to show a range of values\n",
        "- Most common words/n-grams found"
      ],
      "metadata": {
        "id": "rlYD5Go09y1Q"
      }
    },
    {
      "cell_type": "code",
      "source": [
        "# Install Spark 3.5.0\n",
        "!apt-get install openjdk-8-jdk-headless -qq > /dev/null\n",
        "!wget -q https://archive.apache.org/dist/spark/spark-3.5.0/spark-3.5.0-bin-hadoop3.tgz\n",
        "!tar xf spark-3.5.0-bin-hadoop3.tgz\n"
      ],
      "metadata": {
        "id": "Y_WqDI9E8OFv"
      },
      "execution_count": 74,
      "outputs": []
    },
    {
      "cell_type": "code",
      "source": [
        "# Set Environment Variables\n",
        "import os\n",
        "os.environ[\"JAVA_HOME\"] = \"/usr/lib/jvm/java-8-openjdk-amd64\"\n",
        "os.environ[\"SPARK_HOME\"] = \"/content/spark-3.5.0-bin-hadoop3\"\n",
        "\n",
        "# Install Findspark\n",
        "!pip install -q findspark\n",
        "\n",
        "import findspark\n",
        "findspark.init()\n",
        "\n",
        "## creating a spark session\n",
        "from pyspark.sql import SparkSession\n",
        "spark = SparkSession.builder.appName('Final').getOrCreate()"
      ],
      "metadata": {
        "id": "APX-5J3yyZca"
      },
      "execution_count": 75,
      "outputs": []
    },
    {
      "cell_type": "code",
      "source": [
        "import pandas as pd\n",
        "import matplotlib.pyplot as plt\n",
        "from pyspark.sql.functions import col\n",
        "import matplotlib.pyplot as plt\n",
        "\n",
        "import seaborn as sns\n",
        "from pyspark.sql.functions import col, split, explode\n",
        "from pyspark.ml.feature import NGram\n",
        "\n",
        "from pyspark.sql.functions import col, lower\n",
        "from pyspark.sql.types import StringType\n",
        "\n",
        "from pyspark.sql.functions import udf\n",
        "from pyspark.sql.types import FloatType\n",
        "\n",
        "from pyspark.ml.regression import LinearRegression\n",
        "from pyspark.ml.feature import VectorAssembler\n",
        "from pyspark.ml.evaluation import RegressionEvaluator\n",
        "from pyspark.ml import Pipeline\n"
      ],
      "metadata": {
        "id": "EEm1QmZQyTDj"
      },
      "execution_count": 76,
      "outputs": []
    },
    {
      "cell_type": "code",
      "source": [
        "df = spark.read.csv(\"/content/Superstore.csv\", header=True, inferSchema=True)\n",
        "df_filtered = df.filter(~col('Sales').rlike('[a-zA-Z]'))\n",
        "df_filtered.show()\n"
      ],
      "metadata": {
        "colab": {
          "base_uri": "https://localhost:8080/"
        },
        "id": "iiNfNx7TfzqN",
        "outputId": "31b642ad-4401-4ded-a97d-7dd80c41045d"
      },
      "execution_count": 77,
      "outputs": [
        {
          "output_type": "stream",
          "name": "stdout",
          "text": [
            "+------+--------------+----------+----------+--------------+-----------+------------------+-----------+-------------+---------------+--------------+-----------+-------+---------------+---------------+------------+--------------------+--------+--------+--------+--------+\n",
            "|Row ID|      Order ID|Order Date| Ship Date|     Ship Mode|Customer ID|     Customer Name|    Segment|      Country|           City|         State|Postal Code| Region|     Product ID|       Category|Sub-Category|        Product Name|   Sales|Quantity|Discount|  Profit|\n",
            "+------+--------------+----------+----------+--------------+-----------+------------------+-----------+-------------+---------------+--------------+-----------+-------+---------------+---------------+------------+--------------------+--------+--------+--------+--------+\n",
            "|     1|CA-2016-152156| 11/8/2016|11/11/2016|  Second Class|   CG-12520|       Claire Gute|   Consumer|United States|      Henderson|      Kentucky|      42420|  South|FUR-BO-10001798|      Furniture|   Bookcases|Bush Somerset Col...|  261.96|       2|       0| 41.9136|\n",
            "|     2|CA-2016-152156| 11/8/2016|11/11/2016|  Second Class|   CG-12520|       Claire Gute|   Consumer|United States|      Henderson|      Kentucky|      42420|  South|FUR-CH-10000454|      Furniture|      Chairs|Hon Deluxe Fabric...|  731.94|       3|       0| 219.582|\n",
            "|     3|CA-2016-138688| 6/12/2016| 6/16/2016|  Second Class|   DV-13045|   Darrin Van Huff|  Corporate|United States|    Los Angeles|    California|      90036|   West|OFF-LA-10000240|Office Supplies|      Labels|Self-Adhesive Add...|   14.62|       2|       0|  6.8714|\n",
            "|     4|US-2015-108966|10/11/2015|10/18/2015|Standard Class|   SO-20335|    Sean O'Donnell|   Consumer|United States|Fort Lauderdale|       Florida|      33311|  South|FUR-TA-10000577|      Furniture|      Tables|Bretford CR4500 S...|957.5775|       5|    0.45|-383.031|\n",
            "|     5|US-2015-108966|10/11/2015|10/18/2015|Standard Class|   SO-20335|    Sean O'Donnell|   Consumer|United States|Fort Lauderdale|       Florida|      33311|  South|OFF-ST-10000760|Office Supplies|     Storage|Eldon Fold 'N Rol...|  22.368|       2|     0.2|  2.5164|\n",
            "|     6|CA-2014-115812|  6/9/2014| 6/14/2014|Standard Class|   BH-11710|   Brosina Hoffman|   Consumer|United States|    Los Angeles|    California|      90032|   West|FUR-FU-10001487|      Furniture| Furnishings|Eldon Expressions...|   48.86|       7|       0| 14.1694|\n",
            "|     7|CA-2014-115812|  6/9/2014| 6/14/2014|Standard Class|   BH-11710|   Brosina Hoffman|   Consumer|United States|    Los Angeles|    California|      90032|   West|OFF-AR-10002833|Office Supplies|         Art|          Newell 322|    7.28|       4|       0|  1.9656|\n",
            "|     8|CA-2014-115812|  6/9/2014| 6/14/2014|Standard Class|   BH-11710|   Brosina Hoffman|   Consumer|United States|    Los Angeles|    California|      90032|   West|TEC-PH-10002275|     Technology|      Phones|Mitel 5320 IP Pho...| 907.152|       6|     0.2| 90.7152|\n",
            "|     9|CA-2014-115812|  6/9/2014| 6/14/2014|Standard Class|   BH-11710|   Brosina Hoffman|   Consumer|United States|    Los Angeles|    California|      90032|   West|OFF-BI-10003910|Office Supplies|     Binders|DXL Angle-View Bi...|  18.504|       3|     0.2|  5.7825|\n",
            "|    10|CA-2014-115812|  6/9/2014| 6/14/2014|Standard Class|   BH-11710|   Brosina Hoffman|   Consumer|United States|    Los Angeles|    California|      90032|   West|OFF-AP-10002892|Office Supplies|  Appliances|Belkin F5C206VTEL...|   114.9|       5|       0|   34.47|\n",
            "|    11|CA-2014-115812|  6/9/2014| 6/14/2014|Standard Class|   BH-11710|   Brosina Hoffman|   Consumer|United States|    Los Angeles|    California|      90032|   West|FUR-TA-10001539|      Furniture|      Tables|Chromcraft Rectan...|1706.184|       9|     0.2| 85.3092|\n",
            "|    12|CA-2014-115812|  6/9/2014| 6/14/2014|Standard Class|   BH-11710|   Brosina Hoffman|   Consumer|United States|    Los Angeles|    California|      90032|   West|TEC-PH-10002033|     Technology|      Phones|Konftel 250 Confe...| 911.424|       4|     0.2| 68.3568|\n",
            "|    13|CA-2017-114412| 4/15/2017| 4/20/2017|Standard Class|   AA-10480|      Andrew Allen|   Consumer|United States|        Concord|North Carolina|      28027|  South|OFF-PA-10002365|Office Supplies|       Paper|          Xerox 1967|  15.552|       3|     0.2|  5.4432|\n",
            "|    14|CA-2016-161389| 12/5/2016|12/10/2016|Standard Class|   IM-15070|      Irene Maddox|   Consumer|United States|        Seattle|    Washington|      98103|   West|OFF-BI-10003656|Office Supplies|     Binders|Fellowes PB200 Pl...| 407.976|       3|     0.2|132.5922|\n",
            "|    15|US-2015-118983|11/22/2015|11/26/2015|Standard Class|   HP-14815|     Harold Pawlan|Home Office|United States|     Fort Worth|         Texas|      76106|Central|OFF-AP-10002311|Office Supplies|  Appliances|Holmes Replacemen...|   68.81|       5|     0.8|-123.858|\n",
            "|    16|US-2015-118983|11/22/2015|11/26/2015|Standard Class|   HP-14815|     Harold Pawlan|Home Office|United States|     Fort Worth|         Texas|      76106|Central|OFF-BI-10000756|Office Supplies|     Binders|Storex DuraTech R...|   2.544|       3|     0.8|  -3.816|\n",
            "|    17|CA-2014-105893|11/11/2014|11/18/2014|Standard Class|   PK-19075|         Pete Kriz|   Consumer|United States|        Madison|     Wisconsin|      53711|Central|OFF-ST-10004186|Office Supplies|     Storage|\"Stur-D-Stor Shel...|  665.88|       6|       0| 13.3176|\n",
            "|    18|CA-2014-167164| 5/13/2014| 5/15/2014|  Second Class|   AG-10270|   Alejandro Grove|   Consumer|United States|    West Jordan|          Utah|      84084|   West|OFF-ST-10000107|Office Supplies|     Storage|Fellowes Super St...|    55.5|       2|       0|    9.99|\n",
            "|    19|CA-2014-143336| 8/27/2014|  9/1/2014|  Second Class|   ZD-21925|Zuschuss Donatelli|   Consumer|United States|  San Francisco|    California|      94109|   West|OFF-AR-10003056|Office Supplies|         Art|          Newell 341|    8.56|       2|       0|  2.4824|\n",
            "|    20|CA-2014-143336| 8/27/2014|  9/1/2014|  Second Class|   ZD-21925|Zuschuss Donatelli|   Consumer|United States|  San Francisco|    California|      94109|   West|TEC-PH-10001949|     Technology|      Phones|Cisco SPA 501G IP...|  213.48|       3|     0.2|  16.011|\n",
            "+------+--------------+----------+----------+--------------+-----------+------------------+-----------+-------------+---------------+--------------+-----------+-------+---------------+---------------+------------+--------------------+--------+--------+--------+--------+\n",
            "only showing top 20 rows\n",
            "\n"
          ]
        }
      ]
    },
    {
      "cell_type": "markdown",
      "source": [
        "### The sales column had some values like ' Blue', ' Canary' etc. We remove any text values that exist in the sale column to ensure that it does not affect the prediction."
      ],
      "metadata": {
        "id": "NCCIPaCyXYZT"
      }
    },
    {
      "cell_type": "code",
      "source": [
        "df_filtered = df_filtered.dropna()"
      ],
      "metadata": {
        "id": "5k7viWRACi8n"
      },
      "execution_count": 78,
      "outputs": []
    },
    {
      "cell_type": "code",
      "source": [
        "df = df_filtered"
      ],
      "metadata": {
        "id": "ybcdgr5m_EbS"
      },
      "execution_count": 79,
      "outputs": []
    },
    {
      "cell_type": "code",
      "source": [
        "df.printSchema()"
      ],
      "metadata": {
        "colab": {
          "base_uri": "https://localhost:8080/"
        },
        "id": "x-PPyZX8yTJJ",
        "outputId": "a873d400-acb5-4069-9958-133b6e543334"
      },
      "execution_count": 80,
      "outputs": [
        {
          "output_type": "stream",
          "name": "stdout",
          "text": [
            "root\n",
            " |-- Row ID: integer (nullable = true)\n",
            " |-- Order ID: string (nullable = true)\n",
            " |-- Order Date: string (nullable = true)\n",
            " |-- Ship Date: string (nullable = true)\n",
            " |-- Ship Mode: string (nullable = true)\n",
            " |-- Customer ID: string (nullable = true)\n",
            " |-- Customer Name: string (nullable = true)\n",
            " |-- Segment: string (nullable = true)\n",
            " |-- Country: string (nullable = true)\n",
            " |-- City: string (nullable = true)\n",
            " |-- State: string (nullable = true)\n",
            " |-- Postal Code: integer (nullable = true)\n",
            " |-- Region: string (nullable = true)\n",
            " |-- Product ID: string (nullable = true)\n",
            " |-- Category: string (nullable = true)\n",
            " |-- Sub-Category: string (nullable = true)\n",
            " |-- Product Name: string (nullable = true)\n",
            " |-- Sales: string (nullable = true)\n",
            " |-- Quantity: string (nullable = true)\n",
            " |-- Discount: string (nullable = true)\n",
            " |-- Profit: double (nullable = true)\n",
            "\n"
          ]
        }
      ]
    },
    {
      "cell_type": "code",
      "source": [
        "\n",
        "df.describe().show()\n"
      ],
      "metadata": {
        "colab": {
          "base_uri": "https://localhost:8080/"
        },
        "id": "MMQNd5OTyXbD",
        "outputId": "d2646925-d727-4789-ddd4-637ec3666591"
      },
      "execution_count": 81,
      "outputs": [
        {
          "output_type": "stream",
          "name": "stdout",
          "text": [
            "+-------+-----------------+--------------+----------+---------+--------------+-----------+------------------+-----------+-------------+--------+-------+-----------------+-------+---------------+----------+------------+--------------------+------------------+------------------+-------------------+------------------+\n",
            "|summary|           Row ID|      Order ID|Order Date|Ship Date|     Ship Mode|Customer ID|     Customer Name|    Segment|      Country|    City|  State|      Postal Code| Region|     Product ID|  Category|Sub-Category|        Product Name|             Sales|          Quantity|           Discount|            Profit|\n",
            "+-------+-----------------+--------------+----------+---------+--------------+-----------+------------------+-----------+-------------+--------+-------+-----------------+-------+---------------+----------+------------+--------------------+------------------+------------------+-------------------+------------------+\n",
            "|  count|             9694|          9694|      9694|     9694|          9694|       9694|              9694|       9694|         9694|    9694|   9694|             9694|   9694|           9694|      9694|        9694|                9694|              9694|              9694|               9694|              9694|\n",
            "|   mean|4993.926139880338|          NULL|      NULL|     NULL|          NULL|       NULL|              NULL|       NULL|         NULL|    NULL|   NULL|55190.49102537652|   NULL|           NULL|      NULL|        NULL|                NULL|234.41818199917006|3.7909015886115123|0.15516711367857353|29.178641860945017|\n",
            "| stddev|2885.273358122261|          NULL|      NULL|     NULL|          NULL|       NULL|              NULL|       NULL|         NULL|    NULL|   NULL|32050.12906963153|   NULL|           NULL|      NULL|        NULL|                NULL| 631.7890112674363|2.2273345138146503| 0.2048673882877609| 237.7167824860583|\n",
            "|    min|                1|CA-2014-100006|  1/1/2017| 1/1/2015|   First Class|   AA-10315|     Aaron Bergman|   Consumer|United States|Aberdeen|Alabama|             1040|Central|FUR-BO-10000112| Furniture| Accessories|\"#10- 4 1/8\"\" x 9...|             0.444|                 1|                  0|         -6599.978|\n",
            "|    max|             9994|US-2017-169551|  9/9/2017| 9/9/2017|Standard Class|   ZD-21925|Zuschuss Donatelli|Home Office|United States|    Yuma|Wyoming|            99301|   West|TEC-PH-10004977|Technology|      Tables|netTALK DUO VoIP ...|            999.98|                 9|                0.8|          8399.976|\n",
            "+-------+-----------------+--------------+----------+---------+--------------+-----------+------------------+-----------+-------------+--------+-------+-----------------+-------+---------------+----------+------------+--------------------+------------------+------------------+-------------------+------------------+\n",
            "\n"
          ]
        }
      ]
    },
    {
      "cell_type": "markdown",
      "source": [
        "### In the above the cells, we drop any null values if they exist, describe the dataset and understand its schema."
      ],
      "metadata": {
        "id": "G1NXrd_PXsMs"
      }
    },
    {
      "cell_type": "code",
      "source": [
        "quantity = df.select('Quantity').rdd.flatMap(lambda x: x).collect()\n",
        "\n",
        "plt.hist(quantity, bins=30, color='skyblue', edgecolor='black', alpha=0.7)\n",
        "plt.title('Distribution of Quantity')\n",
        "plt.xlabel('Quantity')\n",
        "plt.ylabel('Frequency')\n",
        "plt.show()"
      ],
      "metadata": {
        "colab": {
          "base_uri": "https://localhost:8080/",
          "height": 472
        },
        "id": "vktvKHm9gZJX",
        "outputId": "eaf84cd1-1209-412e-e03d-d04ef05d75e6"
      },
      "execution_count": 82,
      "outputs": [
        {
          "output_type": "display_data",
          "data": {
            "text/plain": [
              "<Figure size 640x480 with 1 Axes>"
            ],
            "image/png": "[encoded data removed]"
          },
          "metadata": {}
        }
      ]
    },
    {
      "cell_type": "markdown",
      "source": [
        "We visualize the distribution of quantity.\n",
        "\n",
        "\n",
        "*   Quantity - Majority of the people tend to buy items between 1-9, that accounts for over 75% of the store sales. This suggests that the store may be a convenience superstore that only sells a range of items. Only about 25% of the people buy 10 items or more.\n",
        "\n"
      ],
      "metadata": {
        "id": "fOMM172tX4HN"
      }
    },
    {
      "cell_type": "code",
      "source": [
        "discount = df.select('Discount').rdd.flatMap(lambda x: x).collect()\n",
        "\n",
        "plt.figure(figsize=(14, 10))\n",
        "\n",
        "plt.subplot(2, 2, 3)\n",
        "plt.hist(discount, bins=30, color='skyblue', edgecolor='black', alpha=0.7)\n",
        "plt.title('Distribution of Discount')\n",
        "plt.xlabel('Discount')\n",
        "plt.ylabel('Frequency')\n",
        "\n",
        "profit = df.select('Profit').rdd.flatMap(lambda x: x).collect()\n",
        "\n",
        "plt.subplot(2, 2, 4)\n",
        "plt.hist(profit, bins=30, color='green', edgecolor='black', alpha=0.7)\n",
        "plt.title('Distribution of Profit')\n",
        "plt.xlabel('Profit')\n",
        "plt.ylabel('Frequency')\n",
        "\n",
        "plt.tight_layout()\n",
        "plt.show()\n"
      ],
      "metadata": {
        "colab": {
          "base_uri": "https://localhost:8080/",
          "height": 547
        },
        "id": "Uu8QHHeYyaI2",
        "outputId": "151e87d2-8cbb-4f86-ac1f-a1e74a15327f"
      },
      "execution_count": 83,
      "outputs": [
        {
          "output_type": "display_data",
          "data": {
            "text/plain": [
              "<Figure size 1400x1000 with 2 Axes>"
            ],
            "image/png": "[encoded data removed]"
          },
          "metadata": {}
        }
      ]
    },
    {
      "cell_type": "markdown",
      "source": [
        "## We visualize the distribution of Discount and Profit.\n",
        "\n",
        "### *   Discount -  We see that majority of the products sold have non discount, and the second most is 0.2, which suggests that at least over 50% of the items were discounted at 20%\n",
        "### *   Profit - We can observe that the store was profitable through the distribution, The range of profit fits over 0-200 and the frequency is immense compared to the loss.\n",
        "\n"
      ],
      "metadata": {
        "id": "HBPj8v21YgdT"
      }
    },
    {
      "cell_type": "code",
      "source": [
        "\n",
        "df.createOrReplaceTempView(\"superstore\")\n",
        "\n",
        "print(\"\\nRange of values for 'Category' column:\")\n",
        "spark.sql(\"SELECT DISTINCT Category FROM superstore\").show()\n",
        "\n",
        "print(\"\\nRange of values for 'Sub-Category' column:\")\n",
        "spark.sql(\"SELECT DISTINCT 'Sub-Category' FROM superstore\").show()\n",
        "\n",
        "print(\"\\nRange of values for 'Ship Mode' column:\")\n",
        "spark.sql(\"SELECT DISTINCT 'Ship Mode' FROM superstore\").show()\n",
        "\n",
        "print(\"\\nRange of values for 'Segment' column:\")\n",
        "spark.sql(\"SELECT DISTINCT Segment FROM superstore\").show()\n",
        "\n",
        "print(\"\\nRange of values for 'Region' column:\")\n",
        "spark.sql(\"SELECT DISTINCT Region FROM superstore\").show()\n"
      ],
      "metadata": {
        "colab": {
          "base_uri": "https://localhost:8080/"
        },
        "id": "igt-ejfK6Zwl",
        "outputId": "1d46fcef-1bd7-4f3c-af9b-069454e0d312"
      },
      "execution_count": 84,
      "outputs": [
        {
          "output_type": "stream",
          "name": "stdout",
          "text": [
            "\n",
            "Range of values for 'Category' column:\n",
            "+---------------+\n",
            "|       Category|\n",
            "+---------------+\n",
            "|Office Supplies|\n",
            "|      Furniture|\n",
            "|     Technology|\n",
            "+---------------+\n",
            "\n",
            "\n",
            "Range of values for 'Sub-Category' column:\n",
            "+------------+\n",
            "|Sub-Category|\n",
            "+------------+\n",
            "|Sub-Category|\n",
            "+------------+\n",
            "\n",
            "\n",
            "Range of values for 'Ship Mode' column:\n",
            "+---------+\n",
            "|Ship Mode|\n",
            "+---------+\n",
            "|Ship Mode|\n",
            "+---------+\n",
            "\n",
            "\n",
            "Range of values for 'Segment' column:\n",
            "+-----------+\n",
            "|    Segment|\n",
            "+-----------+\n",
            "|   Consumer|\n",
            "|Home Office|\n",
            "|  Corporate|\n",
            "+-----------+\n",
            "\n",
            "\n",
            "Range of values for 'Region' column:\n",
            "+-------+\n",
            "| Region|\n",
            "+-------+\n",
            "|  South|\n",
            "|Central|\n",
            "|   East|\n",
            "|   West|\n",
            "+-------+\n",
            "\n"
          ]
        }
      ]
    },
    {
      "cell_type": "markdown",
      "source": [
        "## We set up a temporary SQL view, which allows us to query the data using SQL syntax. The code then does a series of SELECT DISTINCT queries on the columns 'Category', 'Sub-Category', 'Ship Mode', 'Segment', and 'Region' to find all of the unique values in each of these columns.\n",
        "\n",
        "### These queries help to understand the variety of data"
      ],
      "metadata": {
        "id": "BMKg_xuLmwKa"
      }
    },
    {
      "cell_type": "markdown",
      "source": [
        "### We identify all of the values that appear in categorical columns, this is useful information since these categorical values must be One-Hot encoded for training and testing.\n",
        "\n",
        "\n",
        "\n"
      ],
      "metadata": {
        "id": "gJ5wvjMtZiTO"
      }
    },
    {
      "cell_type": "code",
      "source": [
        "ngram_df = df.select('Product Name').withColumn('words', split(col('Product Name'), ' '))\n",
        "\n",
        "unigram = NGram(n=1, inputCol='words', outputCol='unigrams')\n",
        "unigram_df = unigram.transform(ngram_df)\n",
        "unigram_freq = unigram_df.select(explode('unigrams').alias('unigram')).groupBy('unigram').count().orderBy(col('count').desc())\n",
        "print(\"\\nTop 10 most common unigrams:\")\n",
        "unigram_freq.show(10)\n"
      ],
      "metadata": {
        "colab": {
          "base_uri": "https://localhost:8080/"
        },
        "id": "BX5fTtiT5I9P",
        "outputId": "5bc0d15a-aa22-4e74-f087-4635f2dfd347"
      },
      "execution_count": 85,
      "outputs": [
        {
          "output_type": "stream",
          "name": "stdout",
          "text": [
            "\n",
            "Top 10 most common unigrams:\n",
            "+-------+-----+\n",
            "|unigram|count|\n",
            "+-------+-----+\n",
            "|  Xerox|  859|\n",
            "|  Avery|  526|\n",
            "|   with|  477|\n",
            "|      x|  473|\n",
            "|    for|  465|\n",
            "|Binders|  451|\n",
            "|  Black|  335|\n",
            "|  Chair|  325|\n",
            "|    GBC|  325|\n",
            "|Binding|  324|\n",
            "+-------+-----+\n",
            "only showing top 10 rows\n",
            "\n"
          ]
        }
      ]
    },
    {
      "cell_type": "code",
      "source": [
        "bigram = NGram(n=2, inputCol='words', outputCol='bigrams')\n",
        "bigram_df = bigram.transform(ngram_df)\n",
        "bigram_freq = bigram_df.select(explode('bigrams').alias('bigram')).groupBy('bigram').count().orderBy(col('count').desc())\n",
        "print(\"\\nTop 10 most common bigrams:\")\n",
        "bigram_freq.show(10)"
      ],
      "metadata": {
        "colab": {
          "base_uri": "https://localhost:8080/"
        },
        "id": "84_KazMFgw4M",
        "outputId": "685f3e49-29b3-443f-a0eb-964f5335c198"
      },
      "execution_count": 86,
      "outputs": [
        {
          "output_type": "stream",
          "name": "stdout",
          "text": [
            "\n",
            "Top 10 most common bigrams:\n",
            "+-----------------+-----+\n",
            "|           bigram|count|\n",
            "+-----------------+-----+\n",
            "|     Ring Binders|  161|\n",
            "|     Wilson Jones|  148|\n",
            "|      Wall Clock\"|  110|\n",
            "|   Binding System|  100|\n",
            "| Pencil Sharpener|   92|\n",
            "|  Electric Pencil|   90|\n",
            "|       VoIP phone|   78|\n",
            "|Desk Accessories,|   78|\n",
            "|  Binding Machine|   74|\n",
            "|Conference Tables|   71|\n",
            "+-----------------+-----+\n",
            "only showing top 10 rows\n",
            "\n"
          ]
        }
      ]
    },
    {
      "cell_type": "markdown",
      "source": [
        "### We examine the frequency of words and word pairs (unigrams and bigrams) in product names obtained from a dataset.\n",
        "\n",
        "### It initially divides the product names into separate words before generating unigrams and bigrams from them. It then determines the frequency of each unigram and bigram, in descending order of appearance.\n",
        "\n",
        "### Finally, it provides the top ten most common unigrams and bigrams, revealing the most often used phrases and term pairings in product names."
      ],
      "metadata": {
        "id": "ttaMmjLAc41_"
      }
    },
    {
      "cell_type": "markdown",
      "source": [
        "# Section 2: Clean the data\n",
        "\n",
        "10 points\n",
        "\n",
        "Not every dataset is going to be ready to use right away. Take steps to fix incorrect inputs, remove null values, and assign datatypes that fit each feature.\n",
        "\n",
        "### This section should include one or more of the following:\n",
        "- A count of rows before and after dropping data with null or incorrect values, including an explaination of why removing the rows was necessary in [markdown](https://www.markdownguide.org/cheat-sheet).\n",
        "- Renaming a column, adding a new one, or casting an existing one as a different datatype.\n",
        "- Remove punctuation marks, symbols, etc from the data, and convert all upper-case lettering to lower-case.\n",
        "- Remove or fix rows that have bad values/data."
      ],
      "metadata": {
        "id": "PJf7Kn_E-nsi"
      }
    },
    {
      "cell_type": "code",
      "source": [
        "\n",
        "print(\"Count of missing values:\")\n",
        "df_cleaned = df.na.drop()\n",
        "\n",
        "print(\"\\nCount of rows before dropping missing values:\", df.count())\n",
        "print(\"Count of rows after dropping missing values:\", df_cleaned.count())\n"
      ],
      "metadata": {
        "colab": {
          "base_uri": "https://localhost:8080/"
        },
        "id": "bgRygIBf64Z6",
        "outputId": "323af033-283c-4967-fa7b-243131e8a59f"
      },
      "execution_count": 87,
      "outputs": [
        {
          "output_type": "stream",
          "name": "stdout",
          "text": [
            "Count of missing values:\n",
            "\n",
            "Count of rows before dropping missing values: 9694\n",
            "Count of rows after dropping missing values: 9694\n"
          ]
        }
      ]
    },
    {
      "cell_type": "markdown",
      "source": [
        "### This sample counts and presents the amount of missing values in each column, indicating columns where data may be missing or empty. It then eliminates any rows with missing values.\n",
        "\n",
        "### Finally, it compares and shows the total row counts before and after the cleaning process."
      ],
      "metadata": {
        "id": "Lfpc5w5jdPfG"
      }
    },
    {
      "cell_type": "code",
      "source": [
        "for column in df_cleaned.columns:\n",
        "    print(f\"Column: {column}, DataType: {df_cleaned.schema[column].dataType}\")\n",
        "\n",
        "    if isinstance(df_cleaned.schema[column].dataType, StringType):\n",
        "        df_cleaned = df_cleaned.withColumn(column, lower(col(column)))\n"
      ],
      "metadata": {
        "id": "z98wMNcM65x2",
        "colab": {
          "base_uri": "https://localhost:8080/"
        },
        "outputId": "00203a9f-d92b-4b79-add1-febbebb6127e"
      },
      "execution_count": 88,
      "outputs": [
        {
          "output_type": "stream",
          "name": "stdout",
          "text": [
            "Column: Row ID, DataType: IntegerType()\n",
            "Column: Order ID, DataType: StringType()\n",
            "Column: Order Date, DataType: StringType()\n",
            "Column: Ship Date, DataType: StringType()\n",
            "Column: Ship Mode, DataType: StringType()\n",
            "Column: Customer ID, DataType: StringType()\n",
            "Column: Customer Name, DataType: StringType()\n",
            "Column: Segment, DataType: StringType()\n",
            "Column: Country, DataType: StringType()\n",
            "Column: City, DataType: StringType()\n",
            "Column: State, DataType: StringType()\n",
            "Column: Postal Code, DataType: IntegerType()\n",
            "Column: Region, DataType: StringType()\n",
            "Column: Product ID, DataType: StringType()\n",
            "Column: Category, DataType: StringType()\n",
            "Column: Sub-Category, DataType: StringType()\n",
            "Column: Product Name, DataType: StringType()\n",
            "Column: Sales, DataType: StringType()\n",
            "Column: Quantity, DataType: StringType()\n",
            "Column: Discount, DataType: StringType()\n",
            "Column: Profit, DataType: DoubleType()\n"
          ]
        }
      ]
    },
    {
      "cell_type": "code",
      "source": [
        "df_cleaned.show()"
      ],
      "metadata": {
        "colab": {
          "base_uri": "https://localhost:8080/"
        },
        "id": "wHJq0TeodrVL",
        "outputId": "c982d77b-a789-46ee-b6b4-89370ec6cb97"
      },
      "execution_count": 89,
      "outputs": [
        {
          "output_type": "stream",
          "name": "stdout",
          "text": [
            "+------+--------------+----------+----------+--------------+-----------+------------------+-----------+-------------+---------------+--------------+-----------+-------+---------------+---------------+------------+--------------------+--------+--------+--------+--------+\n",
            "|Row ID|      Order ID|Order Date| Ship Date|     Ship Mode|Customer ID|     Customer Name|    Segment|      Country|           City|         State|Postal Code| Region|     Product ID|       Category|Sub-Category|        Product Name|   Sales|Quantity|Discount|  Profit|\n",
            "+------+--------------+----------+----------+--------------+-----------+------------------+-----------+-------------+---------------+--------------+-----------+-------+---------------+---------------+------------+--------------------+--------+--------+--------+--------+\n",
            "|     1|ca-2016-152156| 11/8/2016|11/11/2016|  second class|   cg-12520|       claire gute|   consumer|united states|      henderson|      kentucky|      42420|  south|fur-bo-10001798|      furniture|   bookcases|bush somerset col...|  261.96|       2|       0| 41.9136|\n",
            "|     2|ca-2016-152156| 11/8/2016|11/11/2016|  second class|   cg-12520|       claire gute|   consumer|united states|      henderson|      kentucky|      42420|  south|fur-ch-10000454|      furniture|      chairs|hon deluxe fabric...|  731.94|       3|       0| 219.582|\n",
            "|     3|ca-2016-138688| 6/12/2016| 6/16/2016|  second class|   dv-13045|   darrin van huff|  corporate|united states|    los angeles|    california|      90036|   west|off-la-10000240|office supplies|      labels|self-adhesive add...|   14.62|       2|       0|  6.8714|\n",
            "|     4|us-2015-108966|10/11/2015|10/18/2015|standard class|   so-20335|    sean o'donnell|   consumer|united states|fort lauderdale|       florida|      33311|  south|fur-ta-10000577|      furniture|      tables|bretford cr4500 s...|957.5775|       5|    0.45|-383.031|\n",
            "|     5|us-2015-108966|10/11/2015|10/18/2015|standard class|   so-20335|    sean o'donnell|   consumer|united states|fort lauderdale|       florida|      33311|  south|off-st-10000760|office supplies|     storage|eldon fold 'n rol...|  22.368|       2|     0.2|  2.5164|\n",
            "|     6|ca-2014-115812|  6/9/2014| 6/14/2014|standard class|   bh-11710|   brosina hoffman|   consumer|united states|    los angeles|    california|      90032|   west|fur-fu-10001487|      furniture| furnishings|eldon expressions...|   48.86|       7|       0| 14.1694|\n",
            "|     7|ca-2014-115812|  6/9/2014| 6/14/2014|standard class|   bh-11710|   brosina hoffman|   consumer|united states|    los angeles|    california|      90032|   west|off-ar-10002833|office supplies|         art|          newell 322|    7.28|       4|       0|  1.9656|\n",
            "|     8|ca-2014-115812|  6/9/2014| 6/14/2014|standard class|   bh-11710|   brosina hoffman|   consumer|united states|    los angeles|    california|      90032|   west|tec-ph-10002275|     technology|      phones|mitel 5320 ip pho...| 907.152|       6|     0.2| 90.7152|\n",
            "|     9|ca-2014-115812|  6/9/2014| 6/14/2014|standard class|   bh-11710|   brosina hoffman|   consumer|united states|    los angeles|    california|      90032|   west|off-bi-10003910|office supplies|     binders|dxl angle-view bi...|  18.504|       3|     0.2|  5.7825|\n",
            "|    10|ca-2014-115812|  6/9/2014| 6/14/2014|standard class|   bh-11710|   brosina hoffman|   consumer|united states|    los angeles|    california|      90032|   west|off-ap-10002892|office supplies|  appliances|belkin f5c206vtel...|   114.9|       5|       0|   34.47|\n",
            "|    11|ca-2014-115812|  6/9/2014| 6/14/2014|standard class|   bh-11710|   brosina hoffman|   consumer|united states|    los angeles|    california|      90032|   west|fur-ta-10001539|      furniture|      tables|chromcraft rectan...|1706.184|       9|     0.2| 85.3092|\n",
            "|    12|ca-2014-115812|  6/9/2014| 6/14/2014|standard class|   bh-11710|   brosina hoffman|   consumer|united states|    los angeles|    california|      90032|   west|tec-ph-10002033|     technology|      phones|konftel 250 confe...| 911.424|       4|     0.2| 68.3568|\n",
            "|    13|ca-2017-114412| 4/15/2017| 4/20/2017|standard class|   aa-10480|      andrew allen|   consumer|united states|        concord|north carolina|      28027|  south|off-pa-10002365|office supplies|       paper|          xerox 1967|  15.552|       3|     0.2|  5.4432|\n",
            "|    14|ca-2016-161389| 12/5/2016|12/10/2016|standard class|   im-15070|      irene maddox|   consumer|united states|        seattle|    washington|      98103|   west|off-bi-10003656|office supplies|     binders|fellowes pb200 pl...| 407.976|       3|     0.2|132.5922|\n",
            "|    15|us-2015-118983|11/22/2015|11/26/2015|standard class|   hp-14815|     harold pawlan|home office|united states|     fort worth|         texas|      76106|central|off-ap-10002311|office supplies|  appliances|holmes replacemen...|   68.81|       5|     0.8|-123.858|\n",
            "|    16|us-2015-118983|11/22/2015|11/26/2015|standard class|   hp-14815|     harold pawlan|home office|united states|     fort worth|         texas|      76106|central|off-bi-10000756|office supplies|     binders|storex duratech r...|   2.544|       3|     0.8|  -3.816|\n",
            "|    17|ca-2014-105893|11/11/2014|11/18/2014|standard class|   pk-19075|         pete kriz|   consumer|united states|        madison|     wisconsin|      53711|central|off-st-10004186|office supplies|     storage|\"stur-d-stor shel...|  665.88|       6|       0| 13.3176|\n",
            "|    18|ca-2014-167164| 5/13/2014| 5/15/2014|  second class|   ag-10270|   alejandro grove|   consumer|united states|    west jordan|          utah|      84084|   west|off-st-10000107|office supplies|     storage|fellowes super st...|    55.5|       2|       0|    9.99|\n",
            "|    19|ca-2014-143336| 8/27/2014|  9/1/2014|  second class|   zd-21925|zuschuss donatelli|   consumer|united states|  san francisco|    california|      94109|   west|off-ar-10003056|office supplies|         art|          newell 341|    8.56|       2|       0|  2.4824|\n",
            "|    20|ca-2014-143336| 8/27/2014|  9/1/2014|  second class|   zd-21925|zuschuss donatelli|   consumer|united states|  san francisco|    california|      94109|   west|tec-ph-10001949|     technology|      phones|cisco spa 501g ip...|  213.48|       3|     0.2|  16.011|\n",
            "+------+--------------+----------+----------+--------------+-----------+------------------+-----------+-------------+---------------+--------------+-----------+-------+---------------+---------------+------------+--------------------+--------+--------+--------+--------+\n",
            "only showing top 20 rows\n",
            "\n"
          ]
        }
      ]
    },
    {
      "cell_type": "markdown",
      "source": [
        "### We go through each column and share its name and data type. It transforms the text of columns that contain string data to lowercase.\n",
        "\n",
        "### This transformation standardizes string values, which may benefit with data consistency and comparison processes."
      ],
      "metadata": {
        "id": "F4-ojHEWdfrq"
      }
    },
    {
      "cell_type": "code",
      "source": [
        "\n",
        "columns_to_drop = ['Order ID', 'Customer ID', 'Product ID', 'Postal Code', 'City', 'Customer Name', 'Order Date', 'Country']\n",
        "df_clean = df_cleaned.select([column for column in df_cleaned.columns if column not in columns_to_drop])\n",
        "\n",
        "df_clean = df_clean.withColumn(\"Quantity\", df_clean[\"Quantity\"].cast(\"float\"))\n",
        "df_clean = df_clean.withColumn(\"Discount\", df_clean[\"Discount\"].cast(\"float\"))\n",
        "df_clean = df_clean.withColumn(\"Sales\", df_clean[\"Sales\"].cast(\"float\"))"
      ],
      "metadata": {
        "id": "vXFifbj0E5YU"
      },
      "execution_count": 90,
      "outputs": []
    },
    {
      "cell_type": "code",
      "source": [
        "df_clean.show()"
      ],
      "metadata": {
        "colab": {
          "base_uri": "https://localhost:8080/"
        },
        "id": "JJFLGiZWE8ey",
        "outputId": "19073622-6e91-4d28-8a1b-9d4f7d3f17bb"
      },
      "execution_count": 91,
      "outputs": [
        {
          "output_type": "stream",
          "name": "stdout",
          "text": [
            "+------+----------+--------------+-----------+--------------+-------+---------------+------------+--------------------+--------+--------+--------+--------+\n",
            "|Row ID| Ship Date|     Ship Mode|    Segment|         State| Region|       Category|Sub-Category|        Product Name|   Sales|Quantity|Discount|  Profit|\n",
            "+------+----------+--------------+-----------+--------------+-------+---------------+------------+--------------------+--------+--------+--------+--------+\n",
            "|     1|11/11/2016|  second class|   consumer|      kentucky|  south|      furniture|   bookcases|bush somerset col...|  261.96|     2.0|     0.0| 41.9136|\n",
            "|     2|11/11/2016|  second class|   consumer|      kentucky|  south|      furniture|      chairs|hon deluxe fabric...|  731.94|     3.0|     0.0| 219.582|\n",
            "|     3| 6/16/2016|  second class|  corporate|    california|   west|office supplies|      labels|self-adhesive add...|   14.62|     2.0|     0.0|  6.8714|\n",
            "|     4|10/18/2015|standard class|   consumer|       florida|  south|      furniture|      tables|bretford cr4500 s...|957.5775|     5.0|    0.45|-383.031|\n",
            "|     5|10/18/2015|standard class|   consumer|       florida|  south|office supplies|     storage|eldon fold 'n rol...|  22.368|     2.0|     0.2|  2.5164|\n",
            "|     6| 6/14/2014|standard class|   consumer|    california|   west|      furniture| furnishings|eldon expressions...|   48.86|     7.0|     0.0| 14.1694|\n",
            "|     7| 6/14/2014|standard class|   consumer|    california|   west|office supplies|         art|          newell 322|    7.28|     4.0|     0.0|  1.9656|\n",
            "|     8| 6/14/2014|standard class|   consumer|    california|   west|     technology|      phones|mitel 5320 ip pho...| 907.152|     6.0|     0.2| 90.7152|\n",
            "|     9| 6/14/2014|standard class|   consumer|    california|   west|office supplies|     binders|dxl angle-view bi...|  18.504|     3.0|     0.2|  5.7825|\n",
            "|    10| 6/14/2014|standard class|   consumer|    california|   west|office supplies|  appliances|belkin f5c206vtel...|   114.9|     5.0|     0.0|   34.47|\n",
            "|    11| 6/14/2014|standard class|   consumer|    california|   west|      furniture|      tables|chromcraft rectan...|1706.184|     9.0|     0.2| 85.3092|\n",
            "|    12| 6/14/2014|standard class|   consumer|    california|   west|     technology|      phones|konftel 250 confe...| 911.424|     4.0|     0.2| 68.3568|\n",
            "|    13| 4/20/2017|standard class|   consumer|north carolina|  south|office supplies|       paper|          xerox 1967|  15.552|     3.0|     0.2|  5.4432|\n",
            "|    14|12/10/2016|standard class|   consumer|    washington|   west|office supplies|     binders|fellowes pb200 pl...| 407.976|     3.0|     0.2|132.5922|\n",
            "|    15|11/26/2015|standard class|home office|         texas|central|office supplies|  appliances|holmes replacemen...|   68.81|     5.0|     0.8|-123.858|\n",
            "|    16|11/26/2015|standard class|home office|         texas|central|office supplies|     binders|storex duratech r...|   2.544|     3.0|     0.8|  -3.816|\n",
            "|    17|11/18/2014|standard class|   consumer|     wisconsin|central|office supplies|     storage|\"stur-d-stor shel...|  665.88|     6.0|     0.0| 13.3176|\n",
            "|    18| 5/15/2014|  second class|   consumer|          utah|   west|office supplies|     storage|fellowes super st...|    55.5|     2.0|     0.0|    9.99|\n",
            "|    19|  9/1/2014|  second class|   consumer|    california|   west|office supplies|         art|          newell 341|    8.56|     2.0|     0.0|  2.4824|\n",
            "|    20|  9/1/2014|  second class|   consumer|    california|   west|     technology|      phones|cisco spa 501g ip...|  213.48|     3.0|     0.2|  16.011|\n",
            "+------+----------+--------------+-----------+--------------+-------+---------------+------------+--------------------+--------+--------+--------+--------+\n",
            "only showing top 20 rows\n",
            "\n"
          ]
        }
      ]
    },
    {
      "cell_type": "markdown",
      "source": [
        "### Above we tidy up the dataset by deleting certain columns that might not be needed for further analysis or modeling, such as IDs and geographical information.\n",
        "\n",
        "### We then verify that all of the columns indicating quantities, discounts, and sales are handled as floating-point values, which is critical for any subsequent computations or modeling."
      ],
      "metadata": {
        "id": "78q34rcDduR_"
      }
    },
    {
      "cell_type": "markdown",
      "source": [
        "# Section 3: Transform the clean data\n",
        "\n",
        "10 points\n",
        "\n",
        "Once you have clean data, start to prepare it to fit your analysis tools. This might mean using custom code to normalize certain values, joining supplemental datasets, and/or preparing it for machine learning.\n",
        "\n",
        "### This section should include one or more of the following:\n",
        "- Write a UDF to perform a function, then use it to add a new column to your data. Explain why in [markdown](https://www.markdownguide.org/cheat-sheet)\n",
        "- Join an outside data source. (It can be one you've prepared alongside the primary source you're using, as long as you link it)\n",
        "- Split the data into train/test sets\n",
        "- Create vectors for relavent features\n",
        "- One-hot encode catagorical variables"
      ],
      "metadata": {
        "id": "7vn1ZLLh8WhW"
      }
    },
    {
      "cell_type": "code",
      "source": [
        "def profit_per_quantity(profit, quantity):\n",
        "    return profit / quantity\n"
      ],
      "metadata": {
        "id": "eJ15DO_nKlto"
      },
      "execution_count": 92,
      "outputs": []
    },
    {
      "cell_type": "code",
      "source": [
        "profit_per_quantity_udf = udf(profit_per_quantity, FloatType())\n",
        "df_clean = df_clean.withColumn('Profit Per Quantity', profit_per_quantity_udf(col('Profit'), col('Quantity')))\n",
        "df_clean.show()"
      ],
      "metadata": {
        "colab": {
          "base_uri": "https://localhost:8080/"
        },
        "id": "AvemWIVFdfh6",
        "outputId": "b2efdb0f-a008-4710-bb0a-74201bbc204e"
      },
      "execution_count": 93,
      "outputs": [
        {
          "output_type": "stream",
          "name": "stdout",
          "text": [
            "+------+----------+--------------+-----------+--------------+-------+---------------+------------+--------------------+--------+--------+--------+--------+-------------------+\n",
            "|Row ID| Ship Date|     Ship Mode|    Segment|         State| Region|       Category|Sub-Category|        Product Name|   Sales|Quantity|Discount|  Profit|Profit Per Quantity|\n",
            "+------+----------+--------------+-----------+--------------+-------+---------------+------------+--------------------+--------+--------+--------+--------+-------------------+\n",
            "|     1|11/11/2016|  second class|   consumer|      kentucky|  south|      furniture|   bookcases|bush somerset col...|  261.96|     2.0|     0.0| 41.9136|            20.9568|\n",
            "|     2|11/11/2016|  second class|   consumer|      kentucky|  south|      furniture|      chairs|hon deluxe fabric...|  731.94|     3.0|     0.0| 219.582|             73.194|\n",
            "|     3| 6/16/2016|  second class|  corporate|    california|   west|office supplies|      labels|self-adhesive add...|   14.62|     2.0|     0.0|  6.8714|             3.4357|\n",
            "|     4|10/18/2015|standard class|   consumer|       florida|  south|      furniture|      tables|bretford cr4500 s...|957.5775|     5.0|    0.45|-383.031|           -76.6062|\n",
            "|     5|10/18/2015|standard class|   consumer|       florida|  south|office supplies|     storage|eldon fold 'n rol...|  22.368|     2.0|     0.2|  2.5164|             1.2582|\n",
            "|     6| 6/14/2014|standard class|   consumer|    california|   west|      furniture| furnishings|eldon expressions...|   48.86|     7.0|     0.0| 14.1694|             2.0242|\n",
            "|     7| 6/14/2014|standard class|   consumer|    california|   west|office supplies|         art|          newell 322|    7.28|     4.0|     0.0|  1.9656|             0.4914|\n",
            "|     8| 6/14/2014|standard class|   consumer|    california|   west|     technology|      phones|mitel 5320 ip pho...| 907.152|     6.0|     0.2| 90.7152|            15.1192|\n",
            "|     9| 6/14/2014|standard class|   consumer|    california|   west|office supplies|     binders|dxl angle-view bi...|  18.504|     3.0|     0.2|  5.7825|             1.9275|\n",
            "|    10| 6/14/2014|standard class|   consumer|    california|   west|office supplies|  appliances|belkin f5c206vtel...|   114.9|     5.0|     0.0|   34.47|              6.894|\n",
            "|    11| 6/14/2014|standard class|   consumer|    california|   west|      furniture|      tables|chromcraft rectan...|1706.184|     9.0|     0.2| 85.3092|             9.4788|\n",
            "|    12| 6/14/2014|standard class|   consumer|    california|   west|     technology|      phones|konftel 250 confe...| 911.424|     4.0|     0.2| 68.3568|            17.0892|\n",
            "|    13| 4/20/2017|standard class|   consumer|north carolina|  south|office supplies|       paper|          xerox 1967|  15.552|     3.0|     0.2|  5.4432|             1.8144|\n",
            "|    14|12/10/2016|standard class|   consumer|    washington|   west|office supplies|     binders|fellowes pb200 pl...| 407.976|     3.0|     0.2|132.5922|            44.1974|\n",
            "|    15|11/26/2015|standard class|home office|         texas|central|office supplies|  appliances|holmes replacemen...|   68.81|     5.0|     0.8|-123.858|           -24.7716|\n",
            "|    16|11/26/2015|standard class|home office|         texas|central|office supplies|     binders|storex duratech r...|   2.544|     3.0|     0.8|  -3.816|             -1.272|\n",
            "|    17|11/18/2014|standard class|   consumer|     wisconsin|central|office supplies|     storage|\"stur-d-stor shel...|  665.88|     6.0|     0.0| 13.3176|             2.2196|\n",
            "|    18| 5/15/2014|  second class|   consumer|          utah|   west|office supplies|     storage|fellowes super st...|    55.5|     2.0|     0.0|    9.99|              4.995|\n",
            "|    19|  9/1/2014|  second class|   consumer|    california|   west|office supplies|         art|          newell 341|    8.56|     2.0|     0.0|  2.4824|             1.2412|\n",
            "|    20|  9/1/2014|  second class|   consumer|    california|   west|     technology|      phones|cisco spa 501g ip...|  213.48|     3.0|     0.2|  16.011|              5.337|\n",
            "+------+----------+--------------+-----------+--------------+-------+---------------+------------+--------------------+--------+--------+--------+--------+-------------------+\n",
            "only showing top 20 rows\n",
            "\n"
          ]
        }
      ]
    },
    {
      "cell_type": "markdown",
      "source": [
        " ## First, we define a UDF named `profit_per_quantity` that divides profit by quantity, aiming to understand the profitability of each sold item.\n",
        "\n",
        " ## Applying this UDF to the `df_clean` DataFrame, it creates a new column, 'Profit_Per_Quantity'."
      ],
      "metadata": {
        "id": "ZzJfcQpfeRCo"
      }
    },
    {
      "cell_type": "code",
      "source": [
        "from pyspark.ml.feature import StringIndexer, OneHotEncoder, VectorAssembler\n",
        "from pyspark.ml import Pipeline\n",
        "\n",
        "\n",
        "Categorical_Columns = ['Category', 'Sub-Category', 'Region', 'Ship Date', 'Product Name', 'Segment', 'Ship Mode', 'State']\n",
        "indexers = [StringIndexer(inputCol=col, outputCol=\"{0}_indexed\".format(col)) for col in Categorical_Columns]\n",
        "encoders = [OneHotEncoder(inputCols=[idx.getOutputCol()], outputCols=[\"{0}_encoded\".format(idx.getInputCol())]) for idx in indexers]\n"
      ],
      "metadata": {
        "id": "4oC3IEx2UU_z"
      },
      "execution_count": 94,
      "outputs": []
    },
    {
      "cell_type": "code",
      "source": [
        "pipeline = Pipeline(stages=indexers + encoders)\n",
        "df_transformed = pipeline.fit(df_clean).transform(df_clean)\n",
        "\n",
        "Required_Columns = [col for col in df_transformed.columns if col not in Categorical_Columns]\n",
        "Required_Columns = [col for col in Required_Columns if not col.endswith(\"_indexed\")]"
      ],
      "metadata": {
        "id": "2hdNK5MJdZMG"
      },
      "execution_count": 95,
      "outputs": []
    },
    {
      "cell_type": "code",
      "source": [
        "df_final = df_transformed.select(Required_Columns)\n",
        "df_final.show()"
      ],
      "metadata": {
        "colab": {
          "base_uri": "https://localhost:8080/"
        },
        "id": "_iegF3x_dZRb",
        "outputId": "07dfa68c-7f58-4dca-8356-20f7cd1fefa6"
      },
      "execution_count": 96,
      "outputs": [
        {
          "output_type": "stream",
          "name": "stdout",
          "text": [
            "+------+--------+--------+--------+--------+-------------------+----------------+--------------------+--------------+-------------------+--------------------+---------------+-----------------+---------------+\n",
            "|Row ID|   Sales|Quantity|Discount|  Profit|Profit Per Quantity|Category_encoded|Sub-Category_encoded|Region_encoded|  Ship Date_encoded|Product Name_encoded|Segment_encoded|Ship Mode_encoded|  State_encoded|\n",
            "+------+--------+--------+--------+--------+-------------------+----------------+--------------------+--------------+-------------------+--------------------+---------------+-----------------+---------------+\n",
            "|     1|  261.96|     2.0|     0.0| 41.9136|            20.9568|   (2,[1],[1.0])|     (16,[12],[1.0])|     (3,[],[])| (1331,[974],[1.0])| (1797,[1139],[1.0])|  (2,[0],[1.0])|    (3,[1],[1.0])|(48,[16],[1.0])|\n",
            "|     2|  731.94|     3.0|     0.0| 219.582|             73.194|   (2,[1],[1.0])|      (16,[7],[1.0])|     (3,[],[])| (1331,[974],[1.0])|   (1797,[35],[1.0])|  (2,[0],[1.0])|    (3,[1],[1.0])|(48,[16],[1.0])|\n",
            "|     3|   14.62|     2.0|     0.0|  6.8714|             3.4357|   (2,[0],[1.0])|      (16,[9],[1.0])| (3,[0],[1.0])| (1331,[288],[1.0])|  (1797,[496],[1.0])|  (2,[1],[1.0])|    (3,[1],[1.0])| (48,[0],[1.0])|\n",
            "|     4|957.5775|     5.0|    0.45|-383.031|           -76.6062|   (2,[1],[1.0])|     (16,[10],[1.0])|     (3,[],[])|(1331,[1087],[1.0])|  (1797,[233],[1.0])|  (2,[0],[1.0])|    (3,[0],[1.0])| (48,[7],[1.0])|\n",
            "|     5|  22.368|     2.0|     0.2|  2.5164|             1.2582|   (2,[0],[1.0])|      (16,[4],[1.0])|     (3,[],[])|(1331,[1087],[1.0])|  (1797,[872],[1.0])|  (2,[0],[1.0])|    (3,[0],[1.0])| (48,[7],[1.0])|\n",
            "|     6|   48.86|     7.0|     0.0| 14.1694|             2.0242|   (2,[1],[1.0])|      (16,[2],[1.0])| (3,[0],[1.0])| (1331,[501],[1.0])|  (1797,[870],[1.0])|  (2,[0],[1.0])|    (3,[0],[1.0])| (48,[0],[1.0])|\n",
            "|     7|    7.28|     4.0|     0.0|  1.9656|             0.4914|   (2,[0],[1.0])|      (16,[5],[1.0])| (3,[0],[1.0])| (1331,[501],[1.0])|  (1797,[694],[1.0])|  (2,[0],[1.0])|    (3,[0],[1.0])| (48,[0],[1.0])|\n",
            "|     8| 907.152|     6.0|     0.2| 90.7152|            15.1192|       (2,[],[])|      (16,[3],[1.0])| (3,[0],[1.0])| (1331,[501],[1.0])| (1797,[1239],[1.0])|  (2,[0],[1.0])|    (3,[0],[1.0])| (48,[0],[1.0])|\n",
            "|     9|  18.504|     3.0|     0.2|  5.7825|             1.9275|   (2,[0],[1.0])|      (16,[0],[1.0])| (3,[0],[1.0])| (1331,[501],[1.0])|   (1797,[83],[1.0])|  (2,[0],[1.0])|    (3,[0],[1.0])| (48,[0],[1.0])|\n",
            "|    10|   114.9|     5.0|     0.0|   34.47|              6.894|   (2,[0],[1.0])|      (16,[8],[1.0])| (3,[0],[1.0])| (1331,[501],[1.0])|  (1797,[377],[1.0])|  (2,[0],[1.0])|    (3,[0],[1.0])| (48,[0],[1.0])|\n",
            "|    11|1706.184|     9.0|     0.2| 85.3092|             9.4788|   (2,[1],[1.0])|     (16,[10],[1.0])| (3,[0],[1.0])| (1331,[501],[1.0])|  (1797,[137],[1.0])|  (2,[0],[1.0])|    (3,[0],[1.0])| (48,[0],[1.0])|\n",
            "|    12| 911.424|     4.0|     0.2| 68.3568|            17.0892|       (2,[],[])|      (16,[3],[1.0])| (3,[0],[1.0])| (1331,[501],[1.0])| (1797,[1217],[1.0])|  (2,[0],[1.0])|    (3,[0],[1.0])| (48,[0],[1.0])|\n",
            "|    13|  15.552|     3.0|     0.2|  5.4432|             1.8144|   (2,[0],[1.0])|      (16,[1],[1.0])|     (3,[],[])| (1331,[898],[1.0])| (1797,[1042],[1.0])|  (2,[0],[1.0])|    (3,[0],[1.0])| (48,[9],[1.0])|\n",
            "|    14| 407.976|     3.0|     0.2|132.5922|            44.1974|   (2,[0],[1.0])|      (16,[0],[1.0])| (3,[0],[1.0])| (1331,[113],[1.0])|  (1797,[147],[1.0])|  (2,[0],[1.0])|    (3,[0],[1.0])| (48,[4],[1.0])|\n",
            "|    15|   68.81|     5.0|     0.8|-123.858|           -24.7716|   (2,[0],[1.0])|      (16,[8],[1.0])| (3,[2],[1.0])| (1331,[225],[1.0])|   (1797,[97],[1.0])|      (2,[],[])|    (3,[0],[1.0])| (48,[2],[1.0])|\n",
            "|    16|   2.544|     3.0|     0.8|  -3.816|             -1.272|   (2,[0],[1.0])|      (16,[0],[1.0])| (3,[2],[1.0])| (1331,[225],[1.0])|  (1797,[320],[1.0])|      (2,[],[])|    (3,[0],[1.0])| (48,[2],[1.0])|\n",
            "|    17|  665.88|     6.0|     0.0| 13.3176|             2.2196|   (2,[0],[1.0])|      (16,[4],[1.0])| (3,[2],[1.0])| (1331,[144],[1.0])|  (1797,[793],[1.0])|  (2,[0],[1.0])|    (3,[0],[1.0])|(48,[20],[1.0])|\n",
            "|    18|    55.5|     2.0|     0.0|    9.99|              4.995|   (2,[0],[1.0])|      (16,[4],[1.0])| (3,[0],[1.0])| (1331,[159],[1.0])| (1797,[1176],[1.0])|  (2,[0],[1.0])|    (3,[1],[1.0])|(48,[31],[1.0])|\n",
            "|    19|    8.56|     2.0|     0.0|  2.4824|             1.2412|   (2,[0],[1.0])|      (16,[5],[1.0])| (3,[0],[1.0])| (1331,[526],[1.0])|  (1797,[458],[1.0])|  (2,[0],[1.0])|    (3,[1],[1.0])| (48,[0],[1.0])|\n",
            "|    20|  213.48|     3.0|     0.2|  16.011|              5.337|       (2,[],[])|      (16,[3],[1.0])| (3,[0],[1.0])| (1331,[526],[1.0])| (1797,[1729],[1.0])|  (2,[0],[1.0])|    (3,[1],[1.0])| (48,[0],[1.0])|\n",
            "+------+--------+--------+--------+--------+-------------------+----------------+--------------------+--------------+-------------------+--------------------+---------------+-----------------+---------------+\n",
            "only showing top 20 rows\n",
            "\n"
          ]
        }
      ]
    },
    {
      "cell_type": "markdown",
      "source": [
        "### We determine the categorical columns that will be altered. Then it utilizes 'StringIndexer' to turn each category column into numerical indices, and 'OneHotEncoder' to convert these indices into a binary vector representation, making the data more suited for algorithms that need numerical input.\n",
        "\n",
        "### A pipeline is built to expedite the transformation process. After processing the data, it removes the original and intermediate categorical columns, leaving just the encoded features and numerical columns."
      ],
      "metadata": {
        "id": "-UiRTre6i49f"
      }
    },
    {
      "cell_type": "code",
      "source": [
        "df_final = df_final.drop('Row ID')"
      ],
      "metadata": {
        "id": "4sY1ocDDROuR"
      },
      "execution_count": 97,
      "outputs": []
    },
    {
      "cell_type": "code",
      "source": [
        "(train_data, test_data) = df_final.randomSplit([0.8, 0.2], seed=1234)\n",
        "\n",
        "print('Train Data Count: ',train_data.count())\n",
        "print('Test Data Count: ',test_data.count())\n",
        "\n"
      ],
      "metadata": {
        "colab": {
          "base_uri": "https://localhost:8080/"
        },
        "id": "ktdAQJIWNJrS",
        "outputId": "3e46938b-56bd-4ae4-a7d0-2909f5b9ca90"
      },
      "execution_count": 98,
      "outputs": [
        {
          "output_type": "stream",
          "name": "stdout",
          "text": [
            "Train Data Count:  7771\n",
            "Test Data Count:  1923\n"
          ]
        }
      ]
    },
    {
      "cell_type": "code",
      "source": [
        "train_data.show()"
      ],
      "metadata": {
        "colab": {
          "base_uri": "https://localhost:8080/"
        },
        "id": "TPCBFPPOPY42",
        "outputId": "3798c34b-361a-4610-ca5e-a59c982d36d7"
      },
      "execution_count": 99,
      "outputs": [
        {
          "output_type": "stream",
          "name": "stdout",
          "text": [
            "+-----+--------+--------+-------+-------------------+----------------+--------------------+--------------+-------------------+--------------------+---------------+-----------------+---------------+\n",
            "|Sales|Quantity|Discount| Profit|Profit Per Quantity|Category_encoded|Sub-Category_encoded|Region_encoded|  Ship Date_encoded|Product Name_encoded|Segment_encoded|Ship Mode_encoded|  State_encoded|\n",
            "+-----+--------+--------+-------+-------------------+----------------+--------------------+--------------+-------------------+--------------------+---------------+-----------------+---------------+\n",
            "|0.444|     1.0|     0.8|  -1.11|              -1.11|   (2,[0],[1.0])|      (16,[8],[1.0])| (3,[2],[1.0])| (1331,[290],[1.0])| (1797,[1202],[1.0])|  (2,[0],[1.0])|    (3,[0],[1.0])| (48,[2],[1.0])|\n",
            "|0.836|     1.0|     0.8|-1.3376|            -1.3376|   (2,[0],[1.0])|      (16,[0],[1.0])| (3,[2],[1.0])| (1331,[291],[1.0])|  (1797,[128],[1.0])|  (2,[1],[1.0])|    (3,[0],[1.0])| (48,[5],[1.0])|\n",
            "|0.852|     1.0|     0.7|-0.5964|            -0.5964|   (2,[0],[1.0])|      (16,[0],[1.0])| (3,[1],[1.0])| (1331,[481],[1.0])|  (1797,[583],[1.0])|  (2,[0],[1.0])|        (3,[],[])| (48,[3],[1.0])|\n",
            "|0.898|     1.0|     0.8|-1.5715|            -1.5715|   (2,[0],[1.0])|      (16,[0],[1.0])| (3,[2],[1.0])|  (1331,[59],[1.0])|    (1797,[3],[1.0])|  (2,[1],[1.0])|    (3,[0],[1.0])| (48,[2],[1.0])|\n",
            "|0.984|     2.0|     0.8| -1.476|             -0.738|   (2,[0],[1.0])|      (16,[0],[1.0])| (3,[2],[1.0])| (1331,[600],[1.0])|  (1797,[584],[1.0])|  (2,[0],[1.0])|    (3,[2],[1.0])| (48,[2],[1.0])|\n",
            "| 0.99|     1.0|     0.0| 0.4356|             0.4356|       (2,[],[])|      (16,[6],[1.0])| (3,[0],[1.0])|  (1331,[58],[1.0])|  (1797,[934],[1.0])|      (2,[],[])|    (3,[2],[1.0])| (48,[0],[1.0])|\n",
            "|1.044|     1.0|     0.8| -1.827|             -1.827|   (2,[0],[1.0])|      (16,[0],[1.0])| (3,[2],[1.0])| (1331,[711],[1.0])| (1797,[1080],[1.0])|  (2,[1],[1.0])|    (3,[0],[1.0])| (48,[2],[1.0])|\n",
            "| 1.08|     2.0|     0.7| -0.792|             -0.396|   (2,[0],[1.0])|      (16,[0],[1.0])| (3,[0],[1.0])| (1331,[420],[1.0])|   (1797,[38],[1.0])|  (2,[0],[1.0])|    (3,[0],[1.0])|(48,[19],[1.0])|\n",
            "| 1.08|     2.0|     0.7| -0.792|             -0.396|   (2,[0],[1.0])|      (16,[0],[1.0])| (3,[0],[1.0])| (1331,[455],[1.0])|   (1797,[38],[1.0])|  (2,[0],[1.0])|    (3,[0],[1.0])|(48,[13],[1.0])|\n",
            "| 1.08|     3.0|     0.8| -1.728|             -0.576|   (2,[0],[1.0])|      (16,[0],[1.0])| (3,[2],[1.0])|(1331,[1106],[1.0])|   (1797,[38],[1.0])|  (2,[0],[1.0])|    (3,[0],[1.0])| (48,[2],[1.0])|\n",
            "|1.112|     2.0|     0.8|-1.8904|            -0.9452|   (2,[0],[1.0])|      (16,[0],[1.0])| (3,[2],[1.0])| (1331,[570],[1.0])|  (1797,[210],[1.0])|  (2,[0],[1.0])|        (3,[],[])| (48,[2],[1.0])|\n",
            "|1.167|     1.0|     0.7|-0.8558|            -0.8558|   (2,[0],[1.0])|      (16,[0],[1.0])|     (3,[],[])|  (1331,[36],[1.0])| (1797,[1118],[1.0])|  (2,[1],[1.0])|    (3,[0],[1.0])| (48,[7],[1.0])|\n",
            "|1.188|     1.0|     0.8|-1.9602|            -1.9602|   (2,[0],[1.0])|      (16,[0],[1.0])| (3,[2],[1.0])| (1331,[915],[1.0])|    (1797,[7],[1.0])|  (2,[0],[1.0])|    (3,[0],[1.0])| (48,[2],[1.0])|\n",
            "|1.188|     2.0|     0.7|  -0.99|             -0.495|   (2,[0],[1.0])|      (16,[0],[1.0])| (3,[0],[1.0])| (1331,[659],[1.0])|  (1797,[226],[1.0])|  (2,[1],[1.0])|    (3,[1],[1.0])|(48,[13],[1.0])|\n",
            "|1.188|     2.0|     0.7|  -0.99|             -0.495|   (2,[0],[1.0])|      (16,[0],[1.0])| (3,[1],[1.0])| (1331,[197],[1.0])|  (1797,[226],[1.0])|  (2,[1],[1.0])|    (3,[2],[1.0])| (48,[3],[1.0])|\n",
            "|1.192|     2.0|     0.8|-2.0264|            -1.0132|   (2,[0],[1.0])|      (16,[0],[1.0])| (3,[2],[1.0])|  (1331,[31],[1.0])|  (1797,[373],[1.0])|  (2,[0],[1.0])|    (3,[0],[1.0])| (48,[2],[1.0])|\n",
            "|1.234|     1.0|     0.8|-1.9744|            -1.9744|   (2,[0],[1.0])|      (16,[0],[1.0])| (3,[2],[1.0])| (1331,[220],[1.0])| (1797,[1014],[1.0])|  (2,[0],[1.0])|    (3,[0],[1.0])| (48,[2],[1.0])|\n",
            "|1.248|     2.0|     0.8|-1.9344|            -0.9672|   (2,[0],[1.0])|      (16,[0],[1.0])| (3,[2],[1.0])|  (1331,[30],[1.0])|   (1797,[25],[1.0])|  (2,[0],[1.0])|    (3,[0],[1.0])| (48,[2],[1.0])|\n",
            "|1.248|     3.0|     0.8|-1.9344|            -0.6448|   (2,[0],[1.0])|      (16,[0],[1.0])| (3,[2],[1.0])|  (1331,[97],[1.0])| (1797,[1162],[1.0])|  (2,[1],[1.0])|    (3,[2],[1.0])| (48,[2],[1.0])|\n",
            "|1.344|     1.0|     0.2| 0.4704|             0.4704|   (2,[0],[1.0])|      (16,[0],[1.0])| (3,[0],[1.0])| (1331,[860],[1.0])| (1797,[1151],[1.0])|  (2,[0],[1.0])|    (3,[1],[1.0])| (48,[4],[1.0])|\n",
            "+-----+--------+--------+-------+-------------------+----------------+--------------------+--------------+-------------------+--------------------+---------------+-----------------+---------------+\n",
            "only showing top 20 rows\n",
            "\n"
          ]
        }
      ]
    },
    {
      "cell_type": "markdown",
      "source": [
        "### We drop the Row ID column because we do not need it for our analysis, and then we view the train data to make sure its clean and ready for training"
      ],
      "metadata": {
        "id": "11qnfZvajT-2"
      }
    },
    {
      "cell_type": "markdown",
      "source": [
        "# Section 4: Show your analysis of the data\n",
        "\n",
        "10 points\n",
        "\n",
        "This is where the science happens. Use your data to show some kind of insight, and how you got there. Make the reader understand why it's important, and how they can get the same conslusion, and/or what would need to change to reach a different one.\n",
        "\n",
        "### This section should include one or more of the following:\n",
        "- Fit the data to a model\n",
        "- Show the outcome of clustering, regression, and/or classification algorithms.\n",
        " - We used several in class, but you can use whatever fits your needs for this assignment\n",
        "- Reccomend a product/item\n",
        "- Use a SQL query to filter results\n"
      ],
      "metadata": {
        "id": "nV7baCwkIDc7"
      }
    },
    {
      "cell_type": "code",
      "source": [
        "feature_Columns = [col for col in df_final.columns if col.endswith('_encoded') or col in ['Profit Per Quantity', 'Discount', 'Profit', 'Quantity']]  # Modify as per your dataset\n",
        "\n",
        "assembler = VectorAssembler(inputCols=feature_Columns, outputCol=\"features\")\n",
        "\n",
        "linreg = LinearRegression(featuresCol=\"features\", labelCol=\"Sales\")\n",
        "pipeline = Pipeline(stages=[assembler, linreg])\n",
        "model = pipeline.fit(train_data)\n",
        "predictions = model.transform(test_data)\n",
        "predictions.select(\"prediction\", \"Sales\", \"features\").show(30)\n"
      ],
      "metadata": {
        "id": "LxG8vLy_AhXC",
        "colab": {
          "base_uri": "https://localhost:8080/"
        },
        "outputId": "3b72185b-426c-4ae4-8438-2ba1f34f5a87"
      },
      "execution_count": 100,
      "outputs": [
        {
          "output_type": "stream",
          "name": "stdout",
          "text": [
            "+-------------------+-----+--------------------+\n",
            "|         prediction|Sales|            features|\n",
            "+-------------------+-----+--------------------+\n",
            "|-236.13083552126238|0.556|(3206,[0,1,2,3,4,...|\n",
            "|-186.60522303379372|0.876|(3206,[0,1,2,3,4,...|\n",
            "|-104.56311502097118|1.272|(3206,[0,1,2,3,4,...|\n",
            "| -112.3120192806734|1.344|(3206,[0,1,2,3,4,...|\n",
            "| -33.58832072943072|1.344|(3206,[0,1,2,3,4,...|\n",
            "| -83.31257042127727|1.362|(3206,[0,1,2,3,4,...|\n",
            "|-146.19251927709422|1.365|(3206,[0,1,2,3,4,...|\n",
            "|-30.155778187606572|1.556|(3206,[0,1,2,3,4,...|\n",
            "|-107.82034746086377|1.696|(3206,[0,1,2,3,4,...|\n",
            "| -256.7695638375659|1.728|(3206,[0,1,2,3,4,...|\n",
            "|-141.72405484930061| 1.78|(3206,[0,2,3,4,11...|\n",
            "|   11.4622184037148|  1.8|(3206,[0,1,2,3,4,...|\n",
            "|-171.08799130525824| 1.81|(3206,[0,2,3,4,19...|\n",
            "|-133.22155032576921| 1.81|(3206,[0,2,3,4,19...|\n",
            "| -261.3654326645797|1.872|(3206,[0,1,2,3,4,...|\n",
            "|  72.04249765010708|1.908|(3206,[0,1,2,3,4,...|\n",
            "|-114.13219753752092| 1.98|(3206,[0,2,3,12,2...|\n",
            "|  49.55258732597005| 1.98|(3206,[0,2,3,12,2...|\n",
            "| 113.53815402524118|2.032|(3206,[0,1,2,3,5,...|\n",
            "|  -69.2234245092139|2.112|(3206,[0,1,2,3,4,...|\n",
            "|-206.05424791106952|  2.2|(3206,[0,2,3,4,11...|\n",
            "| -178.9221669860903|2.214|(3206,[0,1,2,3,4,...|\n",
            "| -127.1469076214717|2.214|(3206,[0,1,2,3,4,...|\n",
            "|  56.28507198237223| 2.22|(3206,[0,2,3,4,14...|\n",
            "| -75.71983468013029|2.286|(3206,[0,1,2,3,4,...|\n",
            "| 11.207052579285545|2.304|(3206,[0,1,2,3,4,...|\n",
            "|-322.80460513163916|2.313|(3206,[0,1,2,3,4,...|\n",
            "| -87.06518626622433|2.328|(3206,[0,1,2,3,5,...|\n",
            "|  -31.3927708891499|2.334|(3206,[0,1,2,3,4,...|\n",
            "|-13.257457598615801|2.376|(3206,[0,1,2,3,12...|\n",
            "+-------------------+-----+--------------------+\n",
            "only showing top 30 rows\n",
            "\n"
          ]
        }
      ]
    },
    {
      "cell_type": "markdown",
      "source": [
        "### Using a Spark DataFrame, we create and execute a linear regression model to predict sales data. We determine which columns should serve as input features, including those that have been one-hot encoded and numerical columns such as 'Profit_Per_Quantity', 'Discount', 'Profit', and 'Quantity'.\n",
        "\n",
        "### These characteristics are then combined into a single vector for each record using the 'VectorAssembler'. Then a linear regression model is created, with 'Sales' as the primary variable to predict.\n",
        "\n",
        "### Linear regression—is structured into a pipeline, which is a simplified approach for fitting the model to training data and then applying it to test data to make sales forecasts.\n",
        "\n",
        "### Finally, we have a comparison of the model's predictions to actual sales representations for evaluation.\n",
        "\n",
        "### We observe that the predictions are not up to par, this may be due to the lack of feature engineering or hyperparameter turning."
      ],
      "metadata": {
        "id": "zuTuDaO9jk59"
      }
    },
    {
      "cell_type": "code",
      "source": [
        "from pyspark.ml.evaluation import RegressionEvaluator\n",
        "\n",
        "evaluatorRMSE = RegressionEvaluator(labelCol=\"Sales\", predictionCol=\"prediction\", metricName=\"rmse\")\n",
        "evaluatorMAE = RegressionEvaluator(labelCol=\"Sales\", predictionCol=\"prediction\", metricName=\"mae\")\n",
        "evaluatorR2 = RegressionEvaluator(labelCol=\"Sales\", predictionCol=\"prediction\", metricName=\"r2\")\n",
        "\n",
        "rmse = evaluatorRMSE.evaluate(predictions)\n",
        "mae = evaluatorMAE.evaluate(predictions)\n",
        "r2 = evaluatorR2.evaluate(predictions)\n",
        "\n",
        "print('Root Mean Squared Error (RMSE): ',rmse)\n",
        "print('Mean Absolute Error (MAE): ',mae)\n",
        "print('R-squared: ',r2)"
      ],
      "metadata": {
        "id": "swq-P99n_CjH",
        "colab": {
          "base_uri": "https://localhost:8080/"
        },
        "outputId": "154a84e4-8046-496c-ecbf-9e913c35000c"
      },
      "execution_count": 101,
      "outputs": [
        {
          "output_type": "stream",
          "name": "stdout",
          "text": [
            "Root Mean Squared Error (RMSE):  257.8746582271462\n",
            "Mean Absolute Error (MAE):  140.32161348059864\n",
            "R-squared:  0.8213205651351116\n"
          ]
        }
      ]
    },
    {
      "cell_type": "markdown",
      "source": [
        "### We compute three metrics: The RMSE (257.87) indicates how much the projections depart from the actual sales statistics. MAE (140.32) calculates the average error magnitude without squaring differences. Finally, R-squared (0.82) determines how well the predictions match the actual data, with a value around 1 indicating a perfect fit."
      ],
      "metadata": {
        "id": "Po_wEr3uYcXB"
      }
    },
    {
      "cell_type": "markdown",
      "source": [
        "## Final Analysis and thoughts:\n",
        "\n",
        "### - I took the superstore sales dataset from Kaggle, because it is heavily researched and serves as a perfect baseline for this assignment\n",
        "\n",
        "### - The dataset was clean, not any null values, but the sales column had a few anomalies, so we iterated through them and removed it.\n",
        "\n",
        "### - We then understand the range of values for categorical columns which provides insights on the scale of the superstore's operations. We also convert all the values to lowercase for those fields of type string.\n",
        "\n",
        "### - Now comes the fun part, we hypothesize the important features that may help in predicting sales, most of them are categorical so we have to One-hot encode them for training and testing purposes.\n",
        "\n",
        "### - The training results are not satisfactory, but it gives us a good idea about how to improve it further."
      ],
      "metadata": {
        "id": "w-toB0ptYzxi"
      }
    },
    {
      "cell_type": "code",
      "source": [],
      "metadata": {
        "id": "Ovk3UxKbYxUV"
      },
      "execution_count": 101,
      "outputs": []
    }
  ]
}